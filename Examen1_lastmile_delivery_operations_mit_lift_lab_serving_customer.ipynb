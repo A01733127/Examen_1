{
  "nbformat": 4,
  "nbformat_minor": 0,
  "metadata": {
    "colab": {
      "provenance": []
    },
    "kernelspec": {
      "name": "python3",
      "display_name": "Python 3"
    },
    "language_info": {
      "name": "python"
    }
  },
  "cells": [
    {
      "cell_type": "markdown",
      "metadata": {
        "id": "view-in-github"
      },
      "source": [
        "<a href=\"https://colab.research.google.com/github/MaxEV2003/Examen1/blob/main/Examen1_lastmile_delivery_operations_mit_lift_lab_serving_customer.ipynb\" target=\"_parent\"><img src=\"https://colab.research.google.com/assets/colab-badge.svg\" alt=\"Open In Colab\"/></a>"
      ]
    },
    {
      "cell_type": "code",
      "execution_count": null,
      "metadata": {
        "id": "n-syPpOgcAfT"
      },
      "outputs": [],
      "source": [
        "#Importamos librerias requeridas\n",
        "import pandas as pd\n",
        "import numpy as np\n",
        "import matplotlib.pyplot as plt"
      ]
    },
    {
      "cell_type": "code",
      "source": [
        "#Cargar archivo xlsx desde equipo\n",
        "from google.colab import files # carga el archivo desde los documentos del ordenador \n",
        "files.upload()"
      ],
      "metadata": {
        "id": "62GdhztlFd8f"
      },
      "execution_count": null,
      "outputs": []
    },
    {
      "cell_type": "code",
      "source": [
        "#Carga desde archivo .csv sin indice\n",
        "last_mile_customer=pd.read_csv(\"lastmile_delivery_operations_mit_lift_lab_serving_customer.csv\")#carga el archivo cambiandolo a un csv y se renombra\n",
        "last_mile_customer"
      ],
      "metadata": {
        "id": "V4xxEe0zcinM"
      },
      "execution_count": null,
      "outputs": []
    },
    {
      "cell_type": "code",
      "source": [
        "#Verificamos información del DataFrame\n",
        "last_mile_customer.info() #Nos presenta la informacion del DF"
      ],
      "metadata": {
        "id": "VSziH1lJn56u"
      },
      "execution_count": null,
      "outputs": []
    },
    {
      "cell_type": "code",
      "source": [
        "#Corroboramos valores nulos\n",
        "valores_nulos=last_mile_customer.isnull().sum()\n",
        "valores_nulos #imprime todos los valores nulos que tiene cada columna"
      ],
      "metadata": {
        "id": "13HIyZxCUBFD"
      },
      "execution_count": null,
      "outputs": []
    },
    {
      "cell_type": "markdown",
      "source": [
        "Proceso de quitar los valores nulos\n"
      ],
      "metadata": {
        "id": "81EHU0V6rA2t"
      }
    },
    {
      "cell_type": "code",
      "source": [
        "#3° metodo de sustitucion de valores nulos\n",
        "#sustituir valores nulos por un valor numerico en concreto\n",
        "last_mile_customer['picture_cargo_being_delivered_captions']=last_mile_customer['picture_cargo_being_delivered_captions'].fillna(\"picture_cargo_being_delivered_captions\")\n",
        "last_mile_customer\n"
      ],
      "metadata": {
        "id": "JRGorXoxrELc"
      },
      "execution_count": null,
      "outputs": []
    },
    {
      "cell_type": "code",
      "source": [
        "#Corroboramos valores nulos\n",
        "valores_nulos=last_mile_customer.isnull().sum()\n",
        "valores_nulos"
      ],
      "metadata": {
        "id": "XCJZ0U5OrWri"
      },
      "execution_count": null,
      "outputs": []
    },
    {
      "cell_type": "code",
      "source": [
        "last_mile_customer['picture_cargo_being_delivered']=last_mile_customer['picture_cargo_being_delivered'].fillna(\"picture_cargo_being_delivered\")\n",
        "last_mile_customer#Usamos el metodo como manera de sustitucion de valores y se rellenan \n"
      ],
      "metadata": {
        "id": "Ee3A0eLisV9o"
      },
      "execution_count": null,
      "outputs": []
    },
    {
      "cell_type": "code",
      "source": [
        "#Corroboramos valores nulos\n",
        "valores_nulos=last_mile_customer.isnull().sum()\n",
        "valores_nulos"
      ],
      "metadata": {
        "id": "5ZN2VRhFsmlW"
      },
      "execution_count": null,
      "outputs": []
    },
    {
      "cell_type": "code",
      "source": [
        "last_mile_customer['picture_cargo_being_delivered_urls']=last_mile_customer['picture_cargo_being_delivered_urls'].fillna(\"picture_cargo_being_delivered_urls\")\n",
        "last_mile_customer"
      ],
      "metadata": {
        "id": "oaTv-UmWcjjj"
      },
      "execution_count": null,
      "outputs": []
    },
    {
      "cell_type": "code",
      "source": [
        "#Corroboramos valores nulos\n",
        "valores_nulos=last_mile_customer.isnull().sum()\n",
        "valores_nulos"
      ],
      "metadata": {
        "id": "6sUUs40UcwWf"
      },
      "execution_count": null,
      "outputs": []
    },
    {
      "cell_type": "code",
      "source": [
        "#Corroboramos valores nulos\n",
        "valores_nulos=last_mile_customer.isnull().sum().sum()\n",
        "valores_nulos"
      ],
      "metadata": {
        "id": "3Ygg21tmeCFR"
      },
      "execution_count": null,
      "outputs": []
    },
    {
      "cell_type": "code",
      "source": [
        "#Realizamos diagrama de caja o bigote de cada columna del \n",
        "fig=plt.figure(figsize=(15,8))#Definicion de nustra caja de bigote medidas de la imagen\n",
        "last_mile_customer.plot(kind='box',vert=False)#define el estilo de grafica y la genera con todas las columnas con valores atipicos\n",
        "plt.title(\"Valores Atipicos del dataframe\")3Titulo de la grafica\n",
        "plt.show()#muestra la grafica\n"
      ],
      "metadata": {
        "id": "WvkS88-VgTNA"
      },
      "execution_count": null,
      "outputs": []
    },
    {
      "cell_type": "code",
      "source": [
        "from numpy.lib.function_base import percentile\n",
        "y=last_mile_customer['number_of_customers_in_store']#definimos el valor de y para la grafica\n",
        "percentile25=y.quantile(0.25) \n",
        "percentile75=y.quantile(0.75) #marcamos los cuantiles siendo nuestros limites \n",
        "iqr=percentile75 -percentile25#resta de los cuantiles es decir los limites \n",
        "Limite_superior_iqr=percentile75 + 1.5*iqr\n",
        "Limite_inferior_iqr=percentile25 - 1.5*iqr#miden la dispersion del limite inferior y superior\n",
        "print('Limite superior permitido',Limite_superior_iqr)\n",
        "print('Limite inferior permitido', Limite_inferior_iqr)#Imprime los limites permitidos \n"
      ],
      "metadata": {
        "id": "JYnbiwQFeX5J"
      },
      "execution_count": null,
      "outputs": []
    },
    {
      "cell_type": "code",
      "source": [
        "#Encontramos outliers del dataframe\n",
        "outliers_iqr=last_mile_customer[(y<Limite_superior_iqr)|(y>Limite_inferior_iqr)]\n",
        "outliers_iqr#encuentra los valores que se salen del rango de los limites dados"
      ],
      "metadata": {
        "id": "nixxDOIIhscV"
      },
      "execution_count": null,
      "outputs": []
    },
    {
      "cell_type": "code",
      "source": [
        "#Obtenemos datos limpios\n",
        "data_clean_iqr=last_mile_customer[(y<=Limite_superior_iqr)&(y>=Limite_inferior_iqr)]\n",
        "data_clean_iqr#genera los datos limpios de los valores atipicos "
      ],
      "metadata": {
        "id": "djkMAv-PjAmH"
      },
      "execution_count": null,
      "outputs": []
    },
    {
      "cell_type": "code",
      "source": [
        "#Realizamos diagrama de caja o bigote de cada columna del \n",
        "fig=plt.figure(figsize=(15,8))#Caracteristicas de la grafica, medida\n",
        "plt.boxplot(data_clean_iqr[\"number_of_customers_in_store\"])#genera la grafica con los valores dentro de los limites de la columna \n",
        "plt.title(\"number_of_customers_in_store\")#titulo \n",
        "plt.show()#muestra la grafica/diagrama\n"
      ],
      "metadata": {
        "id": "yRSEoAMukImO"
      },
      "execution_count": null,
      "outputs": []
    },
    {
      "cell_type": "code",
      "source": [
        "#Realizamos una copia del dataframe\n",
        "micro=last_mile_customer.copy()"
      ],
      "metadata": {
        "id": "5-EzGc5rUqeq"
      },
      "execution_count": null,
      "outputs": []
    },
    {
      "cell_type": "markdown",
      "source": [
        "Se hace el mismo proceso con las demas columnas y practicamente es el ismo metodo"
      ],
      "metadata": {
        "id": "jUovBem6AiKG"
      }
    },
    {
      "cell_type": "code",
      "source": [
        "from numpy.lib.function_base import percentile\n",
        "y=micro['number_of_suppliers_in_store']\n",
        "percentile25=y.quantile(0.25) \n",
        "percentile75=y.quantile(0.75) \n",
        "iqr=percentile75 -percentile25\n",
        "Limite_superior_iqr=percentile75 + 1.5*iqr\n",
        "Limite_inferior_iqr=percentile25 - 1.5*iqr\n",
        "print('Limite superior permitido',Limite_superior_iqr)\n",
        "print('Limite inferior permitido', Limite_inferior_iqr)"
      ],
      "metadata": {
        "id": "vEeZUu0_m8vQ"
      },
      "execution_count": null,
      "outputs": []
    },
    {
      "cell_type": "code",
      "source": [
        "#Encontramos outliers del dataframe\n",
        "outliers_iqr=last_mile_customer[(y>Limite_superior_iqr)|(y<Limite_inferior_iqr)]\n",
        "outliers_iqr"
      ],
      "metadata": {
        "id": "AZoaupmhnZnH"
      },
      "execution_count": null,
      "outputs": []
    },
    {
      "cell_type": "code",
      "source": [
        "#Obtenemos datos limpios\n",
        "data_clean_iqr=micro[(y<=Limite_superior_iqr)&(y>=Limite_inferior_iqr)]\n",
        "data_clean_iqr"
      ],
      "metadata": {
        "id": "cgVL_Cwtni7a"
      },
      "execution_count": null,
      "outputs": []
    },
    {
      "cell_type": "code",
      "source": [
        "#Realizamos diagrama de caja o bigote de cada columna del \n",
        "fig=plt.figure(figsize=(5,3))\n",
        "plt.boxplot(data_clean_iqr[\"number_of_suppliers_in_store\"])\n",
        "plt.title(\"Outliers de number_of_suppliers_in_store\")\n",
        "plt.show()\n"
      ],
      "metadata": {
        "id": "efZweJfmnr5p"
      },
      "execution_count": null,
      "outputs": []
    },
    {
      "cell_type": "code",
      "source": [
        "#Realizamos una copia del dataframe\n",
        "data3=data_clean_iqr.copy()"
      ],
      "metadata": {
        "id": "Nfl8xJOdoFow"
      },
      "execution_count": null,
      "outputs": []
    },
    {
      "cell_type": "code",
      "source": [
        "from numpy.lib.function_base import percentile\n",
        "y=micro['number_of_cases_boxes_delivered']\n",
        "percentile25=y.quantile(0.25) \n",
        "percentile75=y.quantile(0.75) \n",
        "iqr=percentile75 -percentile25\n",
        "Limite_superior_iqr=percentile75 + 1.5*iqr\n",
        "Limite_inferior_iqr=percentile25 - 1.5*iqr\n",
        "print('Limite superior permitido',Limite_superior_iqr)\n",
        "print('Limite inferior permitido', Limite_inferior_iqr)"
      ],
      "metadata": {
        "id": "4lAt_hz5oxgZ"
      },
      "execution_count": null,
      "outputs": []
    },
    {
      "cell_type": "code",
      "source": [
        "#Encontramos outliers del dataframe\n",
        "outliers_iqr=micro[(y<Limite_superior_iqr)|(y>Limite_inferior_iqr)]\n",
        "outliers_iqr"
      ],
      "metadata": {
        "id": "JbpZvzrHo803"
      },
      "execution_count": null,
      "outputs": []
    },
    {
      "cell_type": "code",
      "source": [
        "#Realizamos diagrama de caja o bigote de cada columna del \n",
        "fig=plt.figure(figsize=(5,5))\n",
        "plt.boxplot(data_clean_iqr[\"number_of_cases_boxes_delivered\"])\n",
        "plt.title(\"Outliers de number_of_cases_boxes_delivered\")\n",
        "plt.show()"
      ],
      "metadata": {
        "id": "FFA2Pm_Po_Jj"
      },
      "execution_count": null,
      "outputs": []
    },
    {
      "cell_type": "code",
      "source": [
        "#Realizamos una copia del dataframe\n",
        "data3=data_clean_iqr.copy()"
      ],
      "metadata": {
        "id": "gndNnkZ30cm7"
      },
      "execution_count": null,
      "outputs": []
    },
    {
      "cell_type": "code",
      "source": [
        "from numpy.lib.function_base import percentile\n",
        "y=micro['_edited_duration']\n",
        "percentile25=y.quantile(0.25) \n",
        "percentile75=y.quantile(0.75)\n",
        "iqr=percentile75 -percentile25\n",
        "Limite_superior_iqr=percentile75 + 1.5*iqr\n",
        "Limite_inferior_iqr=percentile25 - 1.5*iqr\n",
        "print('Limite superior permitido',Limite_superior_iqr)\n",
        "print('Limite inferior permitido', Limite_inferior_iqr)"
      ],
      "metadata": {
        "id": "q7GRImqv0idD"
      },
      "execution_count": null,
      "outputs": []
    },
    {
      "cell_type": "code",
      "source": [
        "#Encontramos outliers del dataframe\n",
        "outliers_iqr=last_mile_customer[(y<Limite_superior_iqr)|(y>Limite_inferior_iqr)]\n",
        "outliers_iqr"
      ],
      "metadata": {
        "id": "zwGumUTB0t8y"
      },
      "execution_count": null,
      "outputs": []
    },
    {
      "cell_type": "code",
      "source": [
        "#Realizamos diagrama de caja o bigote de cada columna del \n",
        "fig=plt.figure(figsize=(5,5))\n",
        "plt.boxplot(data_clean_iqr[\"_edited_duration\"])\n",
        "plt.title(\"_edited_duration\")\n",
        "plt.show()"
      ],
      "metadata": {
        "id": "hZgIW0IC015q"
      },
      "execution_count": null,
      "outputs": []
    },
    {
      "cell_type": "code",
      "source": [
        "#Realizamos una copia del dataframe\n",
        "data3=data_clean_iqr.copy()"
      ],
      "metadata": {
        "id": "WASaWFJD1afu"
      },
      "execution_count": null,
      "outputs": []
    },
    {
      "cell_type": "code",
      "source": [
        "from numpy.lib.function_base import percentile\n",
        "y=last_mile_customer['_updated_duration']\n",
        "percentile25=y.quantile(0.25) \n",
        "percentile75=y.quantile(0.75) \n",
        "iqr=percentile75 -percentile25\n",
        "Limite_superior_iqr=percentile75 + 1.5*iqr\n",
        "Limite_inferior_iqr=percentile25 - 1.5*iqr\n",
        "print('Limite superior permitido',Limite_superior_iqr)\n",
        "print('Limite inferior permitido', Limite_inferior_iqr)"
      ],
      "metadata": {
        "id": "Vof9XNma1WsD"
      },
      "execution_count": null,
      "outputs": []
    },
    {
      "cell_type": "code",
      "source": [
        "#Encontramos outliers del dataframe\n",
        "outliers_iqr=micro[(y<Limite_superior_iqr)|(y>Limite_inferior_iqr)]\n",
        "outliers_iqr"
      ],
      "metadata": {
        "id": "mW00Cuaw1mAb"
      },
      "execution_count": null,
      "outputs": []
    },
    {
      "cell_type": "code",
      "source": [
        "#Realizamos diagrama de caja o bigote de cada columna del \n",
        "fig=plt.figure(figsize=(5,7))\n",
        "plt.boxplot(data_clean_iqr[\"_updated_duration\"])\n",
        "plt.title(\"_updated_duration\")\n",
        "plt.show()"
      ],
      "metadata": {
        "id": "36YMLhM51pLk"
      },
      "execution_count": null,
      "outputs": []
    },
    {
      "cell_type": "code",
      "source": [
        "#Convertir dataframe a CSV\n",
        "from google.colab import files #lleva el archivo hacia nuestros docs del ordenador\n",
        "files.download('lastmile_delivery_operations_mit_lift_lab_serving_customer.csv')# teniendo todos los datos limpios ahora lo convertimos a un csv "
      ],
      "metadata": {
        "id": "3t6mA28xpRlt"
      },
      "execution_count": null,
      "outputs": []
    }
  ]
}